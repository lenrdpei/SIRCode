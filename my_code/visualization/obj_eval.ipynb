{
 "cells": [
  {
   "cell_type": "code",
   "execution_count": 18,
   "id": "4f94699a",
   "metadata": {},
   "outputs": [
    {
     "name": "stdout",
     "output_type": "stream",
     "text": [
      "t-statistic: 32.9685\n",
      "one-sided p-value (o2 != o1): 0.0000\n"
     ]
    }
   ],
   "source": [
    "import pandas as pd\n",
    "from scipy import stats\n",
    "\n",
    "# Load your data\n",
    "df = pd.read_csv('../../results/ER_N100_d5_seed102_obj.csv')\n",
    "\n",
    "# Paired t-test (two-sided)\n",
    "t_stat, p_val = stats.ttest_rel(df['o2'], df['o1'], alternative='two-sided')\n",
    "\n",
    "print(f\"t-statistic: {t_stat:.4f}\")\n",
    "print(f\"one-sided p-value (o2 != o1): {p_val:.4f}\")\n"
   ]
  },
  {
   "cell_type": "code",
   "execution_count": 19,
   "id": "fedfc629",
   "metadata": {},
   "outputs": [
    {
     "name": "stdout",
     "output_type": "stream",
     "text": [
      "t-statistic: 2.9289\n",
      "one-sided p-value (o5 != o3): 0.0042\n"
     ]
    }
   ],
   "source": [
    "import pandas as pd\n",
    "from scipy import stats\n",
    "\n",
    "# Load your data\n",
    "df = pd.read_csv('../../results/ER_N100_d5_seed102_obj.csv')\n",
    "\n",
    "# Paired t-test (two-sided)\n",
    "t_stat, p_val = stats.ttest_rel(df['o3'], df['o5'], alternative='two-sided')\n",
    "\n",
    "print(f\"t-statistic: {t_stat:.4f}\")\n",
    "print(f\"one-sided p-value (o5 != o3): {p_val:.4f}\")\n"
   ]
  }
 ],
 "metadata": {
  "kernelspec": {
   "display_name": "Python 3",
   "language": "python",
   "name": "python3"
  },
  "language_info": {
   "codemirror_mode": {
    "name": "ipython",
    "version": 3
   },
   "file_extension": ".py",
   "mimetype": "text/x-python",
   "name": "python",
   "nbconvert_exporter": "python",
   "pygments_lexer": "ipython3",
   "version": "3.11.9"
  }
 },
 "nbformat": 4,
 "nbformat_minor": 5
}
