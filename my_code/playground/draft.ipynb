{
 "cells": [
  {
   "cell_type": "code",
   "execution_count": 9,
   "id": "25c455fe",
   "metadata": {},
   "outputs": [
    {
     "name": "stderr",
     "output_type": "stream",
     "text": [
      "\u001b[32m\u001b[1m  Activating\u001b[22m\u001b[39m project at `c:\\Files\\Code\\SIRCode\\project_env`\n"
     ]
    },
    {
     "data": {
      "text/plain": [
       "100-element Vector{Float64}:\n",
       " -2.7547337507868934\n",
       "  2.4843332069620545\n",
       " -0.9349159592998646\n",
       " -2.0870194451214603\n",
       " -2.7720858424881167\n",
       "  0.10542331101709002\n",
       " -1.7310958499964637\n",
       "  1.1651742077279712\n",
       " -3.186610907474737\n",
       " -0.48284664002453687\n",
       "  ⋮\n",
       " -1.2994239478800782\n",
       "  4.493923943309986\n",
       "  4.018891787565525\n",
       "  4.505549204667085\n",
       " -1.0570403886026223\n",
       " -2.8224756826153534\n",
       "  2.495417157297171\n",
       " -0.027477074461352835\n",
       " -0.4489117573261986"
      ]
     },
     "metadata": {},
     "output_type": "display_data"
    }
   ],
   "source": [
    "using Pkg\n",
    "Pkg.activate(\"../project_env\")\n",
    "Pkg.instantiate()\n",
    "\n",
    "using Random, Distributions\n",
    "Z = randn(100, 10)\n",
    "B = rand(Bernoulli(0.5), 10)\n",
    "C = Z*B\n",
    "C"
   ]
  }
 ],
 "metadata": {
  "kernelspec": {
   "display_name": "Julia 1.11.5",
   "language": "julia",
   "name": "julia-1.11"
  },
  "language_info": {
   "file_extension": ".jl",
   "mimetype": "application/julia",
   "name": "julia",
   "version": "1.11.5"
  }
 },
 "nbformat": 4,
 "nbformat_minor": 5
}
